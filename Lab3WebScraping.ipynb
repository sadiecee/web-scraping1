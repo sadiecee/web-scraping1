{
  "nbformat": 4,
  "nbformat_minor": 0,
  "metadata": {
    "colab": {
      "name": "Lab3WebScraping.ipynb",
      "provenance": [],
      "collapsed_sections": []
    },
    "kernelspec": {
      "name": "python3",
      "display_name": "Python 3"
    }
  },
  "cells": [
    {
      "cell_type": "code",
      "metadata": {
        "colab": {
          "base_uri": "https://localhost:8080/"
        },
        "id": "nq78rjre1ULE",
        "outputId": "f4e340e7-8d0f-49cb-ea20-379fee0db5f4"
      },
      "source": [
        "# importing libraries\n",
        "import requests\n",
        "import bs4\n",
        "\n",
        "#scraping text headers from Roxane Gay's Wikipedia page \n",
        "res = requests.get('https://en.wikipedia.org/wiki/Roxane_Gay')                   #load my wikipedia page\n",
        "gay_soup = bs4.BeautifulSoup(res.text, \"lxml\")                                   #creates my Roxane Gay Soup item\n",
        "for item in gay_soup.select('.toctext'):                                         #starts a for loop that selects all the headers\n",
        "  print(item.text)                                                               #prints the text not the html of all the headers\n"
      ],
      "execution_count": null,
      "outputs": [
        {
          "output_type": "stream",
          "text": [
            "Early life\n",
            "Career\n",
            "Projects\n",
            "An Untamed State\n",
            "Bad Feminist\n",
            "World of Wakanda\n",
            "Difficult Women\n",
            "Hunger\n",
            "Not That Bad\n",
            "Gay Magazine\n",
            "Unruly Bodies\n",
            "The Banks\n",
            "Other projects\n",
            "Awards and honors\n",
            "Themes\n",
            "Personal life\n",
            "Works and publications\n",
            "External links\n",
            "References\n"
          ],
          "name": "stdout"
        }
      ]
    },
    {
      "cell_type": "code",
      "metadata": {
        "id": "osw2wGdm1VFL"
      },
      "source": [
        ""
      ],
      "execution_count": null,
      "outputs": []
    }
  ]
}